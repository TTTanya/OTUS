{
 "cells": [
  {
   "cell_type": "code",
   "execution_count": 84,
   "id": "e64ae338",
   "metadata": {},
   "outputs": [],
   "source": [
    "import surprise\n",
    "import json\n",
    "import pandas as pd\n",
    "import numpy as np\n",
    "from collections import defaultdict\n",
    "import matplotlib.pyplot as plt\n",
    "import re\n",
    "from surprise import accuracy\n",
    "from surprise.model_selection import GridSearchCV"
   ]
  },
  {
   "cell_type": "code",
   "execution_count": 2,
   "id": "fafa3e79",
   "metadata": {},
   "outputs": [],
   "source": [
    "with open('All_Beauty_5.json', 'r') as f:\n",
    "    data = json.load(f)"
   ]
  },
  {
   "cell_type": "code",
   "execution_count": 3,
   "id": "8b1929f1",
   "metadata": {},
   "outputs": [],
   "source": [
    "meta = []\n",
    "with open('meta_All_Beauty.json', 'r') as f:\n",
    "    for l in f:\n",
    "        meta.append(json.loads(l.strip()))"
   ]
  },
  {
   "cell_type": "code",
   "execution_count": 4,
   "id": "2d6ee5aa",
   "metadata": {},
   "outputs": [],
   "source": [
    "df = pd.DataFrame(data)\n",
    "df_meta = pd.DataFrame.from_dict(meta)"
   ]
  },
  {
   "cell_type": "code",
   "execution_count": 40,
   "id": "d7cccf22",
   "metadata": {},
   "outputs": [],
   "source": [
    "df_all = df.merge(df_meta, left_on='asin', right_on='asin', how='left')"
   ]
  },
  {
   "cell_type": "code",
   "execution_count": 6,
   "id": "cece06ef",
   "metadata": {},
   "outputs": [
    {
     "data": {
      "text/html": [
       "<div>\n",
       "<style scoped>\n",
       "    .dataframe tbody tr th:only-of-type {\n",
       "        vertical-align: middle;\n",
       "    }\n",
       "\n",
       "    .dataframe tbody tr th {\n",
       "        vertical-align: top;\n",
       "    }\n",
       "\n",
       "    .dataframe thead th {\n",
       "        text-align: right;\n",
       "    }\n",
       "</style>\n",
       "<table border=\"1\" class=\"dataframe\">\n",
       "  <thead>\n",
       "    <tr style=\"text-align: right;\">\n",
       "      <th></th>\n",
       "      <th>overall</th>\n",
       "      <th>verified</th>\n",
       "      <th>reviewTime</th>\n",
       "      <th>reviewerID</th>\n",
       "      <th>asin</th>\n",
       "      <th>style</th>\n",
       "      <th>reviewerName</th>\n",
       "      <th>reviewText</th>\n",
       "      <th>summary</th>\n",
       "      <th>unixReviewTime</th>\n",
       "      <th>...</th>\n",
       "      <th>feature</th>\n",
       "      <th>rank</th>\n",
       "      <th>also_view</th>\n",
       "      <th>details</th>\n",
       "      <th>main_cat</th>\n",
       "      <th>similar_item</th>\n",
       "      <th>date</th>\n",
       "      <th>price</th>\n",
       "      <th>imageURL</th>\n",
       "      <th>imageURLHighRes</th>\n",
       "    </tr>\n",
       "  </thead>\n",
       "  <tbody>\n",
       "    <tr>\n",
       "      <th>0</th>\n",
       "      <td>5.0</td>\n",
       "      <td>True</td>\n",
       "      <td>09 1, 2016</td>\n",
       "      <td>A3CIUOJXQ5VDQ2</td>\n",
       "      <td>B0000530HU</td>\n",
       "      <td>{'Size:': ' 7.0 oz', 'Flavor:': ' Classic Ice ...</td>\n",
       "      <td>Shelly F</td>\n",
       "      <td>As advertised. Reasonably priced</td>\n",
       "      <td>Five Stars</td>\n",
       "      <td>1472688000</td>\n",
       "      <td>...</td>\n",
       "      <td>[]</td>\n",
       "      <td>65,003 in Beauty &amp; Personal Care (</td>\n",
       "      <td>[B01I9TIY1U, B07L1PZCS7, B01N12C89Y, B01I9TINT...</td>\n",
       "      <td>{'\n",
       "    Product Dimensions: \n",
       "    ': '3 x 4 x 5 ...</td>\n",
       "      <td>All Beauty</td>\n",
       "      <td></td>\n",
       "      <td></td>\n",
       "      <td></td>\n",
       "      <td>[https://images-na.ssl-images-amazon.com/image...</td>\n",
       "      <td>[https://images-na.ssl-images-amazon.com/image...</td>\n",
       "    </tr>\n",
       "    <tr>\n",
       "      <th>1</th>\n",
       "      <td>5.0</td>\n",
       "      <td>True</td>\n",
       "      <td>09 1, 2016</td>\n",
       "      <td>A3CIUOJXQ5VDQ2</td>\n",
       "      <td>B0000530HU</td>\n",
       "      <td>{'Size:': ' 7.0 oz', 'Flavor:': ' Classic Ice ...</td>\n",
       "      <td>Shelly F</td>\n",
       "      <td>As advertised. Reasonably priced</td>\n",
       "      <td>Five Stars</td>\n",
       "      <td>1472688000</td>\n",
       "      <td>...</td>\n",
       "      <td>[]</td>\n",
       "      <td>65,003 in Beauty &amp; Personal Care (</td>\n",
       "      <td>[B01I9TIY1U, B07L1PZCS7, B01N12C89Y, B01I9TINT...</td>\n",
       "      <td>{'\n",
       "    Product Dimensions: \n",
       "    ': '3 x 4 x 5 ...</td>\n",
       "      <td>All Beauty</td>\n",
       "      <td></td>\n",
       "      <td></td>\n",
       "      <td></td>\n",
       "      <td>[https://images-na.ssl-images-amazon.com/image...</td>\n",
       "      <td>[https://images-na.ssl-images-amazon.com/image...</td>\n",
       "    </tr>\n",
       "    <tr>\n",
       "      <th>2</th>\n",
       "      <td>5.0</td>\n",
       "      <td>True</td>\n",
       "      <td>11 14, 2013</td>\n",
       "      <td>A3H7T87S984REU</td>\n",
       "      <td>B0000530HU</td>\n",
       "      <td>{'Size:': ' 7.0 oz', 'Flavor:': ' Classic Ice ...</td>\n",
       "      <td>houserules18</td>\n",
       "      <td>Like the oder and the feel when I put it on my...</td>\n",
       "      <td>Good for the face</td>\n",
       "      <td>1384387200</td>\n",
       "      <td>...</td>\n",
       "      <td>[]</td>\n",
       "      <td>65,003 in Beauty &amp; Personal Care (</td>\n",
       "      <td>[B01I9TIY1U, B07L1PZCS7, B01N12C89Y, B01I9TINT...</td>\n",
       "      <td>{'\n",
       "    Product Dimensions: \n",
       "    ': '3 x 4 x 5 ...</td>\n",
       "      <td>All Beauty</td>\n",
       "      <td></td>\n",
       "      <td></td>\n",
       "      <td></td>\n",
       "      <td>[https://images-na.ssl-images-amazon.com/image...</td>\n",
       "      <td>[https://images-na.ssl-images-amazon.com/image...</td>\n",
       "    </tr>\n",
       "    <tr>\n",
       "      <th>3</th>\n",
       "      <td>5.0</td>\n",
       "      <td>True</td>\n",
       "      <td>11 14, 2013</td>\n",
       "      <td>A3H7T87S984REU</td>\n",
       "      <td>B0000530HU</td>\n",
       "      <td>{'Size:': ' 7.0 oz', 'Flavor:': ' Classic Ice ...</td>\n",
       "      <td>houserules18</td>\n",
       "      <td>Like the oder and the feel when I put it on my...</td>\n",
       "      <td>Good for the face</td>\n",
       "      <td>1384387200</td>\n",
       "      <td>...</td>\n",
       "      <td>[]</td>\n",
       "      <td>65,003 in Beauty &amp; Personal Care (</td>\n",
       "      <td>[B01I9TIY1U, B07L1PZCS7, B01N12C89Y, B01I9TINT...</td>\n",
       "      <td>{'\n",
       "    Product Dimensions: \n",
       "    ': '3 x 4 x 5 ...</td>\n",
       "      <td>All Beauty</td>\n",
       "      <td></td>\n",
       "      <td></td>\n",
       "      <td></td>\n",
       "      <td>[https://images-na.ssl-images-amazon.com/image...</td>\n",
       "      <td>[https://images-na.ssl-images-amazon.com/image...</td>\n",
       "    </tr>\n",
       "    <tr>\n",
       "      <th>4</th>\n",
       "      <td>1.0</td>\n",
       "      <td>True</td>\n",
       "      <td>08 18, 2013</td>\n",
       "      <td>A3J034YH7UG4KT</td>\n",
       "      <td>B0000530HU</td>\n",
       "      <td>{'Size:': ' 7.0 oz', 'Flavor:': ' Classic Ice ...</td>\n",
       "      <td>Adam</td>\n",
       "      <td>I bought this to smell nice after I shave.  Wh...</td>\n",
       "      <td>Smells awful</td>\n",
       "      <td>1376784000</td>\n",
       "      <td>...</td>\n",
       "      <td>[]</td>\n",
       "      <td>65,003 in Beauty &amp; Personal Care (</td>\n",
       "      <td>[B01I9TIY1U, B07L1PZCS7, B01N12C89Y, B01I9TINT...</td>\n",
       "      <td>{'\n",
       "    Product Dimensions: \n",
       "    ': '3 x 4 x 5 ...</td>\n",
       "      <td>All Beauty</td>\n",
       "      <td></td>\n",
       "      <td></td>\n",
       "      <td></td>\n",
       "      <td>[https://images-na.ssl-images-amazon.com/image...</td>\n",
       "      <td>[https://images-na.ssl-images-amazon.com/image...</td>\n",
       "    </tr>\n",
       "  </tbody>\n",
       "</table>\n",
       "<p>5 rows × 30 columns</p>\n",
       "</div>"
      ],
      "text/plain": [
       "   overall  verified   reviewTime      reviewerID        asin  \\\n",
       "0      5.0      True   09 1, 2016  A3CIUOJXQ5VDQ2  B0000530HU   \n",
       "1      5.0      True   09 1, 2016  A3CIUOJXQ5VDQ2  B0000530HU   \n",
       "2      5.0      True  11 14, 2013  A3H7T87S984REU  B0000530HU   \n",
       "3      5.0      True  11 14, 2013  A3H7T87S984REU  B0000530HU   \n",
       "4      1.0      True  08 18, 2013  A3J034YH7UG4KT  B0000530HU   \n",
       "\n",
       "                                               style  reviewerName  \\\n",
       "0  {'Size:': ' 7.0 oz', 'Flavor:': ' Classic Ice ...      Shelly F   \n",
       "1  {'Size:': ' 7.0 oz', 'Flavor:': ' Classic Ice ...      Shelly F   \n",
       "2  {'Size:': ' 7.0 oz', 'Flavor:': ' Classic Ice ...  houserules18   \n",
       "3  {'Size:': ' 7.0 oz', 'Flavor:': ' Classic Ice ...  houserules18   \n",
       "4  {'Size:': ' 7.0 oz', 'Flavor:': ' Classic Ice ...          Adam   \n",
       "\n",
       "                                          reviewText            summary  \\\n",
       "0                   As advertised. Reasonably priced         Five Stars   \n",
       "1                   As advertised. Reasonably priced         Five Stars   \n",
       "2  Like the oder and the feel when I put it on my...  Good for the face   \n",
       "3  Like the oder and the feel when I put it on my...  Good for the face   \n",
       "4  I bought this to smell nice after I shave.  Wh...       Smells awful   \n",
       "\n",
       "   unixReviewTime  ... feature                                rank  \\\n",
       "0      1472688000  ...      []  65,003 in Beauty & Personal Care (   \n",
       "1      1472688000  ...      []  65,003 in Beauty & Personal Care (   \n",
       "2      1384387200  ...      []  65,003 in Beauty & Personal Care (   \n",
       "3      1384387200  ...      []  65,003 in Beauty & Personal Care (   \n",
       "4      1376784000  ...      []  65,003 in Beauty & Personal Care (   \n",
       "\n",
       "                                           also_view  \\\n",
       "0  [B01I9TIY1U, B07L1PZCS7, B01N12C89Y, B01I9TINT...   \n",
       "1  [B01I9TIY1U, B07L1PZCS7, B01N12C89Y, B01I9TINT...   \n",
       "2  [B01I9TIY1U, B07L1PZCS7, B01N12C89Y, B01I9TINT...   \n",
       "3  [B01I9TIY1U, B07L1PZCS7, B01N12C89Y, B01I9TINT...   \n",
       "4  [B01I9TIY1U, B07L1PZCS7, B01N12C89Y, B01I9TINT...   \n",
       "\n",
       "                                             details    main_cat similar_item  \\\n",
       "0  {'\n",
       "    Product Dimensions: \n",
       "    ': '3 x 4 x 5 ...  All Beauty                \n",
       "1  {'\n",
       "    Product Dimensions: \n",
       "    ': '3 x 4 x 5 ...  All Beauty                \n",
       "2  {'\n",
       "    Product Dimensions: \n",
       "    ': '3 x 4 x 5 ...  All Beauty                \n",
       "3  {'\n",
       "    Product Dimensions: \n",
       "    ': '3 x 4 x 5 ...  All Beauty                \n",
       "4  {'\n",
       "    Product Dimensions: \n",
       "    ': '3 x 4 x 5 ...  All Beauty                \n",
       "\n",
       "  date price                                           imageURL  \\\n",
       "0             [https://images-na.ssl-images-amazon.com/image...   \n",
       "1             [https://images-na.ssl-images-amazon.com/image...   \n",
       "2             [https://images-na.ssl-images-amazon.com/image...   \n",
       "3             [https://images-na.ssl-images-amazon.com/image...   \n",
       "4             [https://images-na.ssl-images-amazon.com/image...   \n",
       "\n",
       "                                     imageURLHighRes  \n",
       "0  [https://images-na.ssl-images-amazon.com/image...  \n",
       "1  [https://images-na.ssl-images-amazon.com/image...  \n",
       "2  [https://images-na.ssl-images-amazon.com/image...  \n",
       "3  [https://images-na.ssl-images-amazon.com/image...  \n",
       "4  [https://images-na.ssl-images-amazon.com/image...  \n",
       "\n",
       "[5 rows x 30 columns]"
      ]
     },
     "execution_count": 6,
     "metadata": {},
     "output_type": "execute_result"
    }
   ],
   "source": [
    "df_all.head()"
   ]
  },
  {
   "cell_type": "code",
   "execution_count": 7,
   "id": "d8f3737b",
   "metadata": {},
   "outputs": [
    {
     "data": {
      "text/plain": [
       "Index(['overall', 'verified', 'reviewTime', 'reviewerID', 'asin', 'style',\n",
       "       'reviewerName', 'reviewText', 'summary', 'unixReviewTime', 'vote',\n",
       "       'image', 'category', 'tech1', 'description', 'fit', 'title', 'also_buy',\n",
       "       'tech2', 'brand', 'feature', 'rank', 'also_view', 'details', 'main_cat',\n",
       "       'similar_item', 'date', 'price', 'imageURL', 'imageURLHighRes'],\n",
       "      dtype='object')"
      ]
     },
     "execution_count": 7,
     "metadata": {},
     "output_type": "execute_result"
    }
   ],
   "source": [
    "df_all.columns"
   ]
  },
  {
   "cell_type": "markdown",
   "id": "1750e187",
   "metadata": {},
   "source": [
    "# EDA"
   ]
  },
  {
   "cell_type": "code",
   "execution_count": 9,
   "id": "f73154b4",
   "metadata": {},
   "outputs": [
    {
     "data": {
      "text/html": [
       "<div>\n",
       "<style scoped>\n",
       "    .dataframe tbody tr th:only-of-type {\n",
       "        vertical-align: middle;\n",
       "    }\n",
       "\n",
       "    .dataframe tbody tr th {\n",
       "        vertical-align: top;\n",
       "    }\n",
       "\n",
       "    .dataframe thead th {\n",
       "        text-align: right;\n",
       "    }\n",
       "</style>\n",
       "<table border=\"1\" class=\"dataframe\">\n",
       "  <thead>\n",
       "    <tr style=\"text-align: right;\">\n",
       "      <th></th>\n",
       "      <th>overall</th>\n",
       "      <th>unixReviewTime</th>\n",
       "    </tr>\n",
       "  </thead>\n",
       "  <tbody>\n",
       "    <tr>\n",
       "      <th>count</th>\n",
       "      <td>5767.000000</td>\n",
       "      <td>5.767000e+03</td>\n",
       "    </tr>\n",
       "    <tr>\n",
       "      <th>mean</th>\n",
       "      <td>4.770591</td>\n",
       "      <td>1.442242e+09</td>\n",
       "    </tr>\n",
       "    <tr>\n",
       "      <th>std</th>\n",
       "      <td>0.751169</td>\n",
       "      <td>5.440093e+07</td>\n",
       "    </tr>\n",
       "    <tr>\n",
       "      <th>min</th>\n",
       "      <td>1.000000</td>\n",
       "      <td>1.095725e+09</td>\n",
       "    </tr>\n",
       "    <tr>\n",
       "      <th>25%</th>\n",
       "      <td>5.000000</td>\n",
       "      <td>1.407586e+09</td>\n",
       "    </tr>\n",
       "    <tr>\n",
       "      <th>50%</th>\n",
       "      <td>5.000000</td>\n",
       "      <td>1.447114e+09</td>\n",
       "    </tr>\n",
       "    <tr>\n",
       "      <th>75%</th>\n",
       "      <td>5.000000</td>\n",
       "      <td>1.481674e+09</td>\n",
       "    </tr>\n",
       "    <tr>\n",
       "      <th>max</th>\n",
       "      <td>5.000000</td>\n",
       "      <td>1.534982e+09</td>\n",
       "    </tr>\n",
       "  </tbody>\n",
       "</table>\n",
       "</div>"
      ],
      "text/plain": [
       "           overall  unixReviewTime\n",
       "count  5767.000000    5.767000e+03\n",
       "mean      4.770591    1.442242e+09\n",
       "std       0.751169    5.440093e+07\n",
       "min       1.000000    1.095725e+09\n",
       "25%       5.000000    1.407586e+09\n",
       "50%       5.000000    1.447114e+09\n",
       "75%       5.000000    1.481674e+09\n",
       "max       5.000000    1.534982e+09"
      ]
     },
     "execution_count": 9,
     "metadata": {},
     "output_type": "execute_result"
    }
   ],
   "source": [
    "# распределение рейтингов от 1 до 5, в основном все ставят максимальную оценку\n",
    "df_all.describe()"
   ]
  },
  {
   "cell_type": "code",
   "execution_count": 10,
   "id": "66a0c46e",
   "metadata": {},
   "outputs": [
    {
     "data": {
      "image/png": "[encoded data removed]",
      "text/plain": [
       "<Figure size 432x288 with 1 Axes>"
      ]
     },
     "metadata": {
      "needs_background": "light"
     },
     "output_type": "display_data"
    }
   ],
   "source": [
    "plt.hist(df_all['overall']);"
   ]
  },
  {
   "cell_type": "code",
   "execution_count": 11,
   "id": "45120ed2",
   "metadata": {},
   "outputs": [],
   "source": [
    "df_user_buys = df_all.groupby('reviewerID')['asin'].count().reset_index()"
   ]
  },
  {
   "cell_type": "code",
   "execution_count": 12,
   "id": "83e2b943",
   "metadata": {},
   "outputs": [
    {
     "data": {
      "text/plain": [
       "991"
      ]
     },
     "execution_count": 12,
     "metadata": {},
     "output_type": "execute_result"
    }
   ],
   "source": [
    "# число уникальных пользователей\n",
    "len(df_user_buys)"
   ]
  },
  {
   "cell_type": "code",
   "execution_count": 13,
   "id": "8c1c17bb",
   "metadata": {},
   "outputs": [
    {
     "data": {
      "text/html": [
       "<div>\n",
       "<style scoped>\n",
       "    .dataframe tbody tr th:only-of-type {\n",
       "        vertical-align: middle;\n",
       "    }\n",
       "\n",
       "    .dataframe tbody tr th {\n",
       "        vertical-align: top;\n",
       "    }\n",
       "\n",
       "    .dataframe thead th {\n",
       "        text-align: right;\n",
       "    }\n",
       "</style>\n",
       "<table border=\"1\" class=\"dataframe\">\n",
       "  <thead>\n",
       "    <tr style=\"text-align: right;\">\n",
       "      <th></th>\n",
       "      <th>asin</th>\n",
       "    </tr>\n",
       "  </thead>\n",
       "  <tbody>\n",
       "    <tr>\n",
       "      <th>count</th>\n",
       "      <td>991.000000</td>\n",
       "    </tr>\n",
       "    <tr>\n",
       "      <th>mean</th>\n",
       "      <td>5.819374</td>\n",
       "    </tr>\n",
       "    <tr>\n",
       "      <th>std</th>\n",
       "      <td>0.908250</td>\n",
       "    </tr>\n",
       "    <tr>\n",
       "      <th>min</th>\n",
       "      <td>5.000000</td>\n",
       "    </tr>\n",
       "    <tr>\n",
       "      <th>25%</th>\n",
       "      <td>5.000000</td>\n",
       "    </tr>\n",
       "    <tr>\n",
       "      <th>50%</th>\n",
       "      <td>6.000000</td>\n",
       "    </tr>\n",
       "    <tr>\n",
       "      <th>75%</th>\n",
       "      <td>6.000000</td>\n",
       "    </tr>\n",
       "    <tr>\n",
       "      <th>max</th>\n",
       "      <td>12.000000</td>\n",
       "    </tr>\n",
       "  </tbody>\n",
       "</table>\n",
       "</div>"
      ],
      "text/plain": [
       "             asin\n",
       "count  991.000000\n",
       "mean     5.819374\n",
       "std      0.908250\n",
       "min      5.000000\n",
       "25%      5.000000\n",
       "50%      6.000000\n",
       "75%      6.000000\n",
       "max     12.000000"
      ]
     },
     "execution_count": 13,
     "metadata": {},
     "output_type": "execute_result"
    }
   ],
   "source": [
    "# так как все пользователи совершили минимум 4 покупки, их всех можно считать активными\n",
    "df_user_buys.describe()"
   ]
  },
  {
   "cell_type": "code",
   "execution_count": 14,
   "id": "cdb0749e",
   "metadata": {},
   "outputs": [],
   "source": [
    "df_item_buys = df_all.groupby('asin')['reviewerID'].count().reset_index()"
   ]
  },
  {
   "cell_type": "code",
   "execution_count": 15,
   "id": "c1167927",
   "metadata": {},
   "outputs": [
    {
     "data": {
      "text/plain": [
       "85"
      ]
     },
     "execution_count": 15,
     "metadata": {},
     "output_type": "execute_result"
    }
   ],
   "source": [
    "# число уникальных товаров\n",
    "len(df_item_buys)"
   ]
  },
  {
   "cell_type": "code",
   "execution_count": 16,
   "id": "69297157",
   "metadata": {},
   "outputs": [
    {
     "data": {
      "text/html": [
       "<div>\n",
       "<style scoped>\n",
       "    .dataframe tbody tr th:only-of-type {\n",
       "        vertical-align: middle;\n",
       "    }\n",
       "\n",
       "    .dataframe tbody tr th {\n",
       "        vertical-align: top;\n",
       "    }\n",
       "\n",
       "    .dataframe thead th {\n",
       "        text-align: right;\n",
       "    }\n",
       "</style>\n",
       "<table border=\"1\" class=\"dataframe\">\n",
       "  <thead>\n",
       "    <tr style=\"text-align: right;\">\n",
       "      <th></th>\n",
       "      <th>reviewerID</th>\n",
       "    </tr>\n",
       "  </thead>\n",
       "  <tbody>\n",
       "    <tr>\n",
       "      <th>count</th>\n",
       "      <td>85.000000</td>\n",
       "    </tr>\n",
       "    <tr>\n",
       "      <th>mean</th>\n",
       "      <td>67.847059</td>\n",
       "    </tr>\n",
       "    <tr>\n",
       "      <th>std</th>\n",
       "      <td>246.684757</td>\n",
       "    </tr>\n",
       "    <tr>\n",
       "      <th>min</th>\n",
       "      <td>1.000000</td>\n",
       "    </tr>\n",
       "    <tr>\n",
       "      <th>25%</th>\n",
       "      <td>3.000000</td>\n",
       "    </tr>\n",
       "    <tr>\n",
       "      <th>50%</th>\n",
       "      <td>6.000000</td>\n",
       "    </tr>\n",
       "    <tr>\n",
       "      <th>75%</th>\n",
       "      <td>13.000000</td>\n",
       "    </tr>\n",
       "    <tr>\n",
       "      <th>max</th>\n",
       "      <td>1794.000000</td>\n",
       "    </tr>\n",
       "  </tbody>\n",
       "</table>\n",
       "</div>"
      ],
      "text/plain": [
       "        reviewerID\n",
       "count    85.000000\n",
       "mean     67.847059\n",
       "std     246.684757\n",
       "min       1.000000\n",
       "25%       3.000000\n",
       "50%       6.000000\n",
       "75%      13.000000\n",
       "max    1794.000000"
      ]
     },
     "execution_count": 16,
     "metadata": {},
     "output_type": "execute_result"
    }
   ],
   "source": [
    "df_item_buys.describe()"
   ]
  },
  {
   "cell_type": "code",
   "execution_count": 33,
   "id": "f5b8c3a3",
   "metadata": {},
   "outputs": [
    {
     "data": {
      "text/html": [
       "<div>\n",
       "<style scoped>\n",
       "    .dataframe tbody tr th:only-of-type {\n",
       "        vertical-align: middle;\n",
       "    }\n",
       "\n",
       "    .dataframe tbody tr th {\n",
       "        vertical-align: top;\n",
       "    }\n",
       "\n",
       "    .dataframe thead th {\n",
       "        text-align: right;\n",
       "    }\n",
       "</style>\n",
       "<table border=\"1\" class=\"dataframe\">\n",
       "  <thead>\n",
       "    <tr style=\"text-align: right;\">\n",
       "      <th></th>\n",
       "      <th>asin</th>\n",
       "      <th>reviewerID</th>\n",
       "    </tr>\n",
       "  </thead>\n",
       "  <tbody>\n",
       "    <tr>\n",
       "      <th>1</th>\n",
       "      <td>B00006L9LC</td>\n",
       "      <td>978</td>\n",
       "    </tr>\n",
       "    <tr>\n",
       "      <th>5</th>\n",
       "      <td>B0009RF9DW</td>\n",
       "      <td>392</td>\n",
       "    </tr>\n",
       "    <tr>\n",
       "      <th>6</th>\n",
       "      <td>B000FI4S1E</td>\n",
       "      <td>392</td>\n",
       "    </tr>\n",
       "    <tr>\n",
       "      <th>7</th>\n",
       "      <td>B000FOI48G</td>\n",
       "      <td>15</td>\n",
       "    </tr>\n",
       "    <tr>\n",
       "      <th>9</th>\n",
       "      <td>B000GLRREU</td>\n",
       "      <td>15</td>\n",
       "    </tr>\n",
       "    <tr>\n",
       "      <th>11</th>\n",
       "      <td>B000NKJIXM</td>\n",
       "      <td>15</td>\n",
       "    </tr>\n",
       "    <tr>\n",
       "      <th>13</th>\n",
       "      <td>B000URXP6E</td>\n",
       "      <td>858</td>\n",
       "    </tr>\n",
       "    <tr>\n",
       "      <th>23</th>\n",
       "      <td>B0010ZBORW</td>\n",
       "      <td>98</td>\n",
       "    </tr>\n",
       "    <tr>\n",
       "      <th>29</th>\n",
       "      <td>B0012Y0ZG2</td>\n",
       "      <td>1794</td>\n",
       "    </tr>\n",
       "    <tr>\n",
       "      <th>30</th>\n",
       "      <td>B0013NB7DW</td>\n",
       "      <td>40</td>\n",
       "    </tr>\n",
       "    <tr>\n",
       "      <th>39</th>\n",
       "      <td>B001LNODUS</td>\n",
       "      <td>33</td>\n",
       "    </tr>\n",
       "    <tr>\n",
       "      <th>40</th>\n",
       "      <td>B001OHV1H4</td>\n",
       "      <td>489</td>\n",
       "    </tr>\n",
       "    <tr>\n",
       "      <th>58</th>\n",
       "      <td>B00DY59MB6</td>\n",
       "      <td>18</td>\n",
       "    </tr>\n",
       "    <tr>\n",
       "      <th>60</th>\n",
       "      <td>B00EYZY6LQ</td>\n",
       "      <td>14</td>\n",
       "    </tr>\n",
       "    <tr>\n",
       "      <th>71</th>\n",
       "      <td>B00RZYW4RG</td>\n",
       "      <td>22</td>\n",
       "    </tr>\n",
       "    <tr>\n",
       "      <th>75</th>\n",
       "      <td>B00W259T7G</td>\n",
       "      <td>163</td>\n",
       "    </tr>\n",
       "    <tr>\n",
       "      <th>77</th>\n",
       "      <td>B019809F9Y</td>\n",
       "      <td>22</td>\n",
       "    </tr>\n",
       "    <tr>\n",
       "      <th>78</th>\n",
       "      <td>B019FWRG3C</td>\n",
       "      <td>33</td>\n",
       "    </tr>\n",
       "    <tr>\n",
       "      <th>83</th>\n",
       "      <td>B01DLR9IDI</td>\n",
       "      <td>21</td>\n",
       "    </tr>\n",
       "    <tr>\n",
       "      <th>84</th>\n",
       "      <td>B01E7UKR38</td>\n",
       "      <td>23</td>\n",
       "    </tr>\n",
       "  </tbody>\n",
       "</table>\n",
       "</div>"
      ],
      "text/plain": [
       "          asin  reviewerID\n",
       "1   B00006L9LC         978\n",
       "5   B0009RF9DW         392\n",
       "6   B000FI4S1E         392\n",
       "7   B000FOI48G          15\n",
       "9   B000GLRREU          15\n",
       "11  B000NKJIXM          15\n",
       "13  B000URXP6E         858\n",
       "23  B0010ZBORW          98\n",
       "29  B0012Y0ZG2        1794\n",
       "30  B0013NB7DW          40\n",
       "39  B001LNODUS          33\n",
       "40  B001OHV1H4         489\n",
       "58  B00DY59MB6          18\n",
       "60  B00EYZY6LQ          14\n",
       "71  B00RZYW4RG          22\n",
       "75  B00W259T7G         163\n",
       "77  B019809F9Y          22\n",
       "78  B019FWRG3C          33\n",
       "83  B01DLR9IDI          21\n",
       "84  B01E7UKR38          23"
      ]
     },
     "execution_count": 33,
     "metadata": {},
     "output_type": "execute_result"
    }
   ],
   "source": [
    "df_item_buys[df_item_buys['reviewerID']>13]"
   ]
  },
  {
   "cell_type": "code",
   "execution_count": 150,
   "id": "b8e4b9e0",
   "metadata": {},
   "outputs": [],
   "source": [
    "df_user_ratings = df_all.groupby('reviewerID')['overall'].mean().reset_index()"
   ]
  },
  {
   "cell_type": "code",
   "execution_count": 151,
   "id": "b3baa333",
   "metadata": {},
   "outputs": [
    {
     "data": {
      "text/html": [
       "<div>\n",
       "<style scoped>\n",
       "    .dataframe tbody tr th:only-of-type {\n",
       "        vertical-align: middle;\n",
       "    }\n",
       "\n",
       "    .dataframe tbody tr th {\n",
       "        vertical-align: top;\n",
       "    }\n",
       "\n",
       "    .dataframe thead th {\n",
       "        text-align: right;\n",
       "    }\n",
       "</style>\n",
       "<table border=\"1\" class=\"dataframe\">\n",
       "  <thead>\n",
       "    <tr style=\"text-align: right;\">\n",
       "      <th></th>\n",
       "      <th>overall</th>\n",
       "    </tr>\n",
       "  </thead>\n",
       "  <tbody>\n",
       "    <tr>\n",
       "      <th>count</th>\n",
       "      <td>991.000000</td>\n",
       "    </tr>\n",
       "    <tr>\n",
       "      <th>mean</th>\n",
       "      <td>4.778616</td>\n",
       "    </tr>\n",
       "    <tr>\n",
       "      <th>std</th>\n",
       "      <td>0.697025</td>\n",
       "    </tr>\n",
       "    <tr>\n",
       "      <th>min</th>\n",
       "      <td>1.000000</td>\n",
       "    </tr>\n",
       "    <tr>\n",
       "      <th>25%</th>\n",
       "      <td>5.000000</td>\n",
       "    </tr>\n",
       "    <tr>\n",
       "      <th>50%</th>\n",
       "      <td>5.000000</td>\n",
       "    </tr>\n",
       "    <tr>\n",
       "      <th>75%</th>\n",
       "      <td>5.000000</td>\n",
       "    </tr>\n",
       "    <tr>\n",
       "      <th>max</th>\n",
       "      <td>5.000000</td>\n",
       "    </tr>\n",
       "  </tbody>\n",
       "</table>\n",
       "</div>"
      ],
      "text/plain": [
       "          overall\n",
       "count  991.000000\n",
       "mean     4.778616\n",
       "std      0.697025\n",
       "min      1.000000\n",
       "25%      5.000000\n",
       "50%      5.000000\n",
       "75%      5.000000\n",
       "max      5.000000"
      ]
     },
     "execution_count": 151,
     "metadata": {},
     "output_type": "execute_result"
    }
   ],
   "source": [
    "df_user_ratings.describe()"
   ]
  },
  {
   "cell_type": "code",
   "execution_count": 160,
   "id": "7cc3a034",
   "metadata": {},
   "outputs": [
    {
     "data": {
      "text/html": [
       "<div>\n",
       "<style scoped>\n",
       "    .dataframe tbody tr th:only-of-type {\n",
       "        vertical-align: middle;\n",
       "    }\n",
       "\n",
       "    .dataframe tbody tr th {\n",
       "        vertical-align: top;\n",
       "    }\n",
       "\n",
       "    .dataframe thead th {\n",
       "        text-align: right;\n",
       "    }\n",
       "</style>\n",
       "<table border=\"1\" class=\"dataframe\">\n",
       "  <thead>\n",
       "    <tr style=\"text-align: right;\">\n",
       "      <th></th>\n",
       "      <th>reviewerID</th>\n",
       "      <th>overall</th>\n",
       "    </tr>\n",
       "  </thead>\n",
       "  <tbody>\n",
       "    <tr>\n",
       "      <th>52</th>\n",
       "      <td>A18HENNBJ25817</td>\n",
       "      <td>1.0</td>\n",
       "    </tr>\n",
       "    <tr>\n",
       "      <th>77</th>\n",
       "      <td>A1BAZK7LSPBPEJ</td>\n",
       "      <td>2.0</td>\n",
       "    </tr>\n",
       "    <tr>\n",
       "      <th>96</th>\n",
       "      <td>A1DFI14L1LBOPJ</td>\n",
       "      <td>2.0</td>\n",
       "    </tr>\n",
       "    <tr>\n",
       "      <th>126</th>\n",
       "      <td>A1J7I5095JBHH</td>\n",
       "      <td>1.0</td>\n",
       "    </tr>\n",
       "    <tr>\n",
       "      <th>223</th>\n",
       "      <td>A1WGC9NCI09T3D</td>\n",
       "      <td>1.0</td>\n",
       "    </tr>\n",
       "    <tr>\n",
       "      <th>230</th>\n",
       "      <td>A1WWZ1NKXLFYNG</td>\n",
       "      <td>2.0</td>\n",
       "    </tr>\n",
       "    <tr>\n",
       "      <th>248</th>\n",
       "      <td>A1ZM06J2A5XGHY</td>\n",
       "      <td>1.0</td>\n",
       "    </tr>\n",
       "    <tr>\n",
       "      <th>283</th>\n",
       "      <td>A24W4W9E62FZP2</td>\n",
       "      <td>2.0</td>\n",
       "    </tr>\n",
       "    <tr>\n",
       "      <th>291</th>\n",
       "      <td>A25DAQQXXA356R</td>\n",
       "      <td>2.0</td>\n",
       "    </tr>\n",
       "    <tr>\n",
       "      <th>312</th>\n",
       "      <td>A27PPA3O7PX0OH</td>\n",
       "      <td>1.0</td>\n",
       "    </tr>\n",
       "  </tbody>\n",
       "</table>\n",
       "</div>"
      ],
      "text/plain": [
       "         reviewerID  overall\n",
       "52   A18HENNBJ25817      1.0\n",
       "77   A1BAZK7LSPBPEJ      2.0\n",
       "96   A1DFI14L1LBOPJ      2.0\n",
       "126   A1J7I5095JBHH      1.0\n",
       "223  A1WGC9NCI09T3D      1.0\n",
       "230  A1WWZ1NKXLFYNG      2.0\n",
       "248  A1ZM06J2A5XGHY      1.0\n",
       "283  A24W4W9E62FZP2      2.0\n",
       "291  A25DAQQXXA356R      2.0\n",
       "312  A27PPA3O7PX0OH      1.0"
      ]
     },
     "execution_count": 160,
     "metadata": {},
     "output_type": "execute_result"
    }
   ],
   "source": [
    "# пользователи с низкими оценками\n",
    "df_user_ratings[df_user_ratings['overall']<3].head(10)"
   ]
  },
  {
   "cell_type": "code",
   "execution_count": 35,
   "id": "38619802",
   "metadata": {},
   "outputs": [
    {
     "data": {
      "text/plain": [
       "864"
      ]
     },
     "execution_count": 35,
     "metadata": {},
     "output_type": "execute_result"
    }
   ],
   "source": [
    "len(df_all[~df_all['asin'].isin(df_item_buys[df_item_buys['reviewerID']>300]['asin'])])"
   ]
  },
  {
   "cell_type": "code",
   "execution_count": 41,
   "id": "81476810",
   "metadata": {},
   "outputs": [],
   "source": [
    "# удаляем товары со слишком большим количеством покупок для сравнения со всем датасетом\n",
    "df_mini = df_all[~df_all['asin'].isin(df_item_buys[df_item_buys['reviewerID']>300]['asin'])].drop_duplicates('asin').reset_index().drop('index', axis=1)"
   ]
  },
  {
   "cell_type": "code",
   "execution_count": 42,
   "id": "1edf54ef",
   "metadata": {},
   "outputs": [],
   "source": [
    "reader = surprise.Reader(line_format='user item rating', rating_scale=(1, 5))"
   ]
  },
  {
   "cell_type": "markdown",
   "id": "04837c79",
   "metadata": {},
   "source": [
    "# Train-test splitting"
   ]
  },
  {
   "cell_type": "code",
   "execution_count": 53,
   "id": "acc365fa",
   "metadata": {},
   "outputs": [],
   "source": [
    "# в тестовый массив заносятся более поздние покупки с учетом ration, в тренировочный - более ранние\n",
    "def train_test_split(X, ratio=0.2, user_col='reviewerID', item_col='asin',\n",
    "                     rating_col='overall', time_col='unixReviewTime'):\n",
    "\n",
    "    X.sort_values(by=[time_col], inplace=True)\n",
    "\n",
    "    userIds = X[user_col].unique()\n",
    "    X_train_data = []\n",
    "    X_test_data = []\n",
    "\n",
    "    for userId in userIds:\n",
    "        curUser = X[X[user_col] == userId]\n",
    "        idx = int(curUser.shape[0] * (1 - ratio))\n",
    "        X_train_data.append(curUser.iloc[:idx, :].values)\n",
    "        X_test_data.append(curUser.iloc[idx:, :].values)\n",
    "\n",
    "    X_train = pd.DataFrame(np.vstack(X_train_data), columns=[user_col, item_col, rating_col, time_col])\n",
    "    X_test = pd.DataFrame(np.vstack(X_test_data), columns=[user_col, item_col, rating_col, time_col])\n",
    "\n",
    "    return X_train, X_test"
   ]
  },
  {
   "cell_type": "code",
   "execution_count": 59,
   "id": "1c67df09",
   "metadata": {
    "collapsed": true
   },
   "outputs": [
    {
     "name": "stderr",
     "output_type": "stream",
     "text": [
      "C:\\Users\\koren\\AppData\\Local\\Temp\\ipykernel_9284\\4008855954.py:4: SettingWithCopyWarning: \n",
      "A value is trying to be set on a copy of a slice from a DataFrame\n",
      "\n",
      "See the caveats in the documentation: https://pandas.pydata.org/pandas-docs/stable/user_guide/indexing.html#returning-a-view-versus-a-copy\n",
      "  X.sort_values(by=[time_col], inplace=True)\n",
      "C:\\Users\\koren\\AppData\\Local\\Temp\\ipykernel_9284\\4008855954.py:4: SettingWithCopyWarning: \n",
      "A value is trying to be set on a copy of a slice from a DataFrame\n",
      "\n",
      "See the caveats in the documentation: https://pandas.pydata.org/pandas-docs/stable/user_guide/indexing.html#returning-a-view-versus-a-copy\n",
      "  X.sort_values(by=[time_col], inplace=True)\n"
     ]
    }
   ],
   "source": [
    "X_train, X_test = train_test_split(df_all[['reviewerID', 'asin', 'overall', 'unixReviewTime']])\n",
    "X_train_mini, X_test_mini = train_test_split(df_mini[['reviewerID', 'asin', 'overall', 'unixReviewTime']])"
   ]
  },
  {
   "cell_type": "code",
   "execution_count": 56,
   "id": "cd486685",
   "metadata": {},
   "outputs": [
    {
     "data": {
      "text/html": [
       "<div>\n",
       "<style scoped>\n",
       "    .dataframe tbody tr th:only-of-type {\n",
       "        vertical-align: middle;\n",
       "    }\n",
       "\n",
       "    .dataframe tbody tr th {\n",
       "        vertical-align: top;\n",
       "    }\n",
       "\n",
       "    .dataframe thead th {\n",
       "        text-align: right;\n",
       "    }\n",
       "</style>\n",
       "<table border=\"1\" class=\"dataframe\">\n",
       "  <thead>\n",
       "    <tr style=\"text-align: right;\">\n",
       "      <th></th>\n",
       "      <th>reviewerID</th>\n",
       "      <th>asin</th>\n",
       "      <th>overall</th>\n",
       "      <th>unixReviewTime</th>\n",
       "    </tr>\n",
       "  </thead>\n",
       "  <tbody>\n",
       "    <tr>\n",
       "      <th>0</th>\n",
       "      <td>A281NPSIMI1C2R</td>\n",
       "      <td>B0002JHI1I</td>\n",
       "      <td>5.0</td>\n",
       "      <td>1095724800</td>\n",
       "    </tr>\n",
       "    <tr>\n",
       "      <th>1</th>\n",
       "      <td>A281NPSIMI1C2R</td>\n",
       "      <td>B0002JHI1I</td>\n",
       "      <td>5.0</td>\n",
       "      <td>1095724800</td>\n",
       "    </tr>\n",
       "    <tr>\n",
       "      <th>2</th>\n",
       "      <td>A281NPSIMI1C2R</td>\n",
       "      <td>B0002JHI1I</td>\n",
       "      <td>5.0</td>\n",
       "      <td>1119916800</td>\n",
       "    </tr>\n",
       "    <tr>\n",
       "      <th>3</th>\n",
       "      <td>A281NPSIMI1C2R</td>\n",
       "      <td>B0002JHI1I</td>\n",
       "      <td>5.0</td>\n",
       "      <td>1119916800</td>\n",
       "    </tr>\n",
       "    <tr>\n",
       "      <th>4</th>\n",
       "      <td>A281NPSIMI1C2R</td>\n",
       "      <td>B0006O10P4</td>\n",
       "      <td>5.0</td>\n",
       "      <td>1506038400</td>\n",
       "    </tr>\n",
       "    <tr>\n",
       "      <th>5</th>\n",
       "      <td>AIIR8E34EDKCQ</td>\n",
       "      <td>B000FI4S1E</td>\n",
       "      <td>5.0</td>\n",
       "      <td>1148083200</td>\n",
       "    </tr>\n",
       "    <tr>\n",
       "      <th>6</th>\n",
       "      <td>AIIR8E34EDKCQ</td>\n",
       "      <td>B0009RF9DW</td>\n",
       "      <td>5.0</td>\n",
       "      <td>1148083200</td>\n",
       "    </tr>\n",
       "    <tr>\n",
       "      <th>7</th>\n",
       "      <td>AIIR8E34EDKCQ</td>\n",
       "      <td>B000PKKAGO</td>\n",
       "      <td>4.0</td>\n",
       "      <td>1197936000</td>\n",
       "    </tr>\n",
       "    <tr>\n",
       "      <th>8</th>\n",
       "      <td>AIIR8E34EDKCQ</td>\n",
       "      <td>B0009RF9DW</td>\n",
       "      <td>5.0</td>\n",
       "      <td>1231286400</td>\n",
       "    </tr>\n",
       "    <tr>\n",
       "      <th>9</th>\n",
       "      <td>AIIR8E34EDKCQ</td>\n",
       "      <td>B000FI4S1E</td>\n",
       "      <td>5.0</td>\n",
       "      <td>1231286400</td>\n",
       "    </tr>\n",
       "  </tbody>\n",
       "</table>\n",
       "</div>"
      ],
      "text/plain": [
       "       reviewerID        asin overall unixReviewTime\n",
       "0  A281NPSIMI1C2R  B0002JHI1I     5.0     1095724800\n",
       "1  A281NPSIMI1C2R  B0002JHI1I     5.0     1095724800\n",
       "2  A281NPSIMI1C2R  B0002JHI1I     5.0     1119916800\n",
       "3  A281NPSIMI1C2R  B0002JHI1I     5.0     1119916800\n",
       "4  A281NPSIMI1C2R  B0006O10P4     5.0     1506038400\n",
       "5   AIIR8E34EDKCQ  B000FI4S1E     5.0     1148083200\n",
       "6   AIIR8E34EDKCQ  B0009RF9DW     5.0     1148083200\n",
       "7   AIIR8E34EDKCQ  B000PKKAGO     4.0     1197936000\n",
       "8   AIIR8E34EDKCQ  B0009RF9DW     5.0     1231286400\n",
       "9   AIIR8E34EDKCQ  B000FI4S1E     5.0     1231286400"
      ]
     },
     "execution_count": 56,
     "metadata": {},
     "output_type": "execute_result"
    }
   ],
   "source": [
    "X_train.head(10)"
   ]
  },
  {
   "cell_type": "code",
   "execution_count": 57,
   "id": "c409bfcb",
   "metadata": {},
   "outputs": [
    {
     "data": {
      "text/html": [
       "<div>\n",
       "<style scoped>\n",
       "    .dataframe tbody tr th:only-of-type {\n",
       "        vertical-align: middle;\n",
       "    }\n",
       "\n",
       "    .dataframe tbody tr th {\n",
       "        vertical-align: top;\n",
       "    }\n",
       "\n",
       "    .dataframe thead th {\n",
       "        text-align: right;\n",
       "    }\n",
       "</style>\n",
       "<table border=\"1\" class=\"dataframe\">\n",
       "  <thead>\n",
       "    <tr style=\"text-align: right;\">\n",
       "      <th></th>\n",
       "      <th>reviewerID</th>\n",
       "      <th>asin</th>\n",
       "      <th>overall</th>\n",
       "      <th>unixReviewTime</th>\n",
       "    </tr>\n",
       "  </thead>\n",
       "  <tbody>\n",
       "    <tr>\n",
       "      <th>0</th>\n",
       "      <td>A281NPSIMI1C2R</td>\n",
       "      <td>B00120VWTK</td>\n",
       "      <td>5.0</td>\n",
       "      <td>1508284800</td>\n",
       "    </tr>\n",
       "    <tr>\n",
       "      <th>1</th>\n",
       "      <td>A281NPSIMI1C2R</td>\n",
       "      <td>B00120VWTK</td>\n",
       "      <td>5.0</td>\n",
       "      <td>1508284800</td>\n",
       "    </tr>\n",
       "    <tr>\n",
       "      <th>2</th>\n",
       "      <td>AIIR8E34EDKCQ</td>\n",
       "      <td>B00021DJ32</td>\n",
       "      <td>5.0</td>\n",
       "      <td>1418515200</td>\n",
       "    </tr>\n",
       "    <tr>\n",
       "      <th>3</th>\n",
       "      <td>AIIR8E34EDKCQ</td>\n",
       "      <td>B00021DJ32</td>\n",
       "      <td>5.0</td>\n",
       "      <td>1418515200</td>\n",
       "    </tr>\n",
       "    <tr>\n",
       "      <th>4</th>\n",
       "      <td>A25C2M3QF9G7OQ</td>\n",
       "      <td>B00W259T7G</td>\n",
       "      <td>5.0</td>\n",
       "      <td>1503705600</td>\n",
       "    </tr>\n",
       "    <tr>\n",
       "      <th>5</th>\n",
       "      <td>A25C2M3QF9G7OQ</td>\n",
       "      <td>B002GP80EU</td>\n",
       "      <td>5.0</td>\n",
       "      <td>1504310400</td>\n",
       "    </tr>\n",
       "    <tr>\n",
       "      <th>6</th>\n",
       "      <td>A1FWFCJU2G7TRA</td>\n",
       "      <td>B000VUXCGI</td>\n",
       "      <td>5.0</td>\n",
       "      <td>1424908800</td>\n",
       "    </tr>\n",
       "    <tr>\n",
       "      <th>7</th>\n",
       "      <td>A3SMR4HRFJARSC</td>\n",
       "      <td>B00W259T7G</td>\n",
       "      <td>2.0</td>\n",
       "      <td>1505692800</td>\n",
       "    </tr>\n",
       "    <tr>\n",
       "      <th>8</th>\n",
       "      <td>A2JCJJNY43QQIV</td>\n",
       "      <td>B00NT0AR7E</td>\n",
       "      <td>5.0</td>\n",
       "      <td>1422403200</td>\n",
       "    </tr>\n",
       "    <tr>\n",
       "      <th>9</th>\n",
       "      <td>A2JCJJNY43QQIV</td>\n",
       "      <td>B008YQM4A6</td>\n",
       "      <td>5.0</td>\n",
       "      <td>1445644800</td>\n",
       "    </tr>\n",
       "  </tbody>\n",
       "</table>\n",
       "</div>"
      ],
      "text/plain": [
       "       reviewerID        asin overall unixReviewTime\n",
       "0  A281NPSIMI1C2R  B00120VWTK     5.0     1508284800\n",
       "1  A281NPSIMI1C2R  B00120VWTK     5.0     1508284800\n",
       "2   AIIR8E34EDKCQ  B00021DJ32     5.0     1418515200\n",
       "3   AIIR8E34EDKCQ  B00021DJ32     5.0     1418515200\n",
       "4  A25C2M3QF9G7OQ  B00W259T7G     5.0     1503705600\n",
       "5  A25C2M3QF9G7OQ  B002GP80EU     5.0     1504310400\n",
       "6  A1FWFCJU2G7TRA  B000VUXCGI     5.0     1424908800\n",
       "7  A3SMR4HRFJARSC  B00W259T7G     2.0     1505692800\n",
       "8  A2JCJJNY43QQIV  B00NT0AR7E     5.0     1422403200\n",
       "9  A2JCJJNY43QQIV  B008YQM4A6     5.0     1445644800"
      ]
     },
     "execution_count": 57,
     "metadata": {},
     "output_type": "execute_result"
    }
   ],
   "source": [
    "X_test.head(10)"
   ]
  },
  {
   "cell_type": "code",
   "execution_count": 58,
   "id": "46034c52",
   "metadata": {},
   "outputs": [],
   "source": [
    "df_train = surprise.Dataset.load_from_df(X_train[['reviewerID', 'asin', 'overall']], reader)\n",
    "df_test = surprise.Dataset.load_from_df(X_test[['reviewerID', 'asin', 'overall']], reader)"
   ]
  },
  {
   "cell_type": "code",
   "execution_count": 122,
   "id": "84a61486",
   "metadata": {},
   "outputs": [],
   "source": [
    "df_train_test = surprise.Dataset.load_from_df(pd.concat([X_train[['reviewerID', 'asin', 'overall']], X_test[['reviewerID', 'asin', 'overall']]], axis=0), reader)"
   ]
  },
  {
   "cell_type": "code",
   "execution_count": 60,
   "id": "610954cd",
   "metadata": {},
   "outputs": [],
   "source": [
    "df_train_mini = surprise.Dataset.load_from_df(X_train_mini[['reviewerID', 'asin', 'overall']], reader)\n",
    "df_test_mini = surprise.Dataset.load_from_df(X_test_mini[['reviewerID', 'asin', 'overall']], reader)"
   ]
  },
  {
   "cell_type": "markdown",
   "id": "703e6345",
   "metadata": {},
   "source": [
    "# Baseline"
   ]
  },
  {
   "cell_type": "code",
   "execution_count": 75,
   "id": "e5a12db0",
   "metadata": {},
   "outputs": [],
   "source": [
    "# рейтинг предсказывается на основе трех чисел - среднего всех рейтингов, смещения по пользователю, смещения по товару\n",
    "df_train_s = df_train.build_full_trainset()\n",
    "df_test_s = [df_test.df.loc[i].to_list() for i in range(len(df_test.df))]"
   ]
  },
  {
   "cell_type": "code",
   "execution_count": 76,
   "id": "500ff56b",
   "metadata": {},
   "outputs": [],
   "source": [
    "df_train_mini_s = df_train_mini.build_full_trainset()\n",
    "df_test_mini_s = [df_test_mini.df.loc[i].to_list() for i in range(len(df_test_mini.df))]"
   ]
  },
  {
   "cell_type": "code",
   "execution_count": 77,
   "id": "4fb7abdb",
   "metadata": {},
   "outputs": [],
   "source": [
    "bl = surprise.BaselineOnly()"
   ]
  },
  {
   "cell_type": "code",
   "execution_count": 78,
   "id": "8fa8d43b",
   "metadata": {},
   "outputs": [
    {
     "name": "stdout",
     "output_type": "stream",
     "text": [
      "Estimating biases using als...\n",
      "RMSE: 0.6352\n",
      "RMSE for full dataset in Baseline:  0.6352141588926041\n"
     ]
    }
   ],
   "source": [
    "bl.fit(df_train_s)\n",
    "predictions = bl.test(df_test_s)\n",
    "print('RMSE for full dataset in Baseline: ', accuracy.rmse(predictions))"
   ]
  },
  {
   "cell_type": "code",
   "execution_count": 79,
   "id": "73c0a83a",
   "metadata": {},
   "outputs": [
    {
     "name": "stdout",
     "output_type": "stream",
     "text": [
      "Estimating biases using als...\n",
      "RMSE: 1.1306\n",
      "RMSE for mini dataset in Baseline:  1.1306366762869116\n"
     ]
    }
   ],
   "source": [
    "bl.fit(df_train_mini_s)\n",
    "predictions = bl.test(df_test_mini_s)\n",
    "print('RMSE for mini dataset in Baseline: ', accuracy.rmse(predictions))"
   ]
  },
  {
   "cell_type": "markdown",
   "id": "ef0ad5da",
   "metadata": {},
   "source": [
    "# SVD++"
   ]
  },
  {
   "cell_type": "code",
   "execution_count": 98,
   "id": "33324fbf",
   "metadata": {},
   "outputs": [],
   "source": [
    "# идея в восстановлении исходной матрицы, и, соотвественно, отсутствующих рейтингов благодаря разложению исходной матрицы на проивзедение двух матриц.\n",
    "# в SVD++ добавляется implicit матрица путем усреднения эмбеддингов по товарам, которые пользователь просмотрел\n",
    "param_grid = {\"n_factors\": [50, 80, 100], \"n_epochs\": [5, 10, 20], \"lr_all\": [0.002, 0.005], \"reg_all\": [0.4, 0.6]}\n",
    "gs = GridSearchCV(surprise.SVDpp, param_grid, measures=[\"rmse\"], cv=3)"
   ]
  },
  {
   "cell_type": "code",
   "execution_count": 99,
   "id": "de36d5c6",
   "metadata": {},
   "outputs": [
    {
     "name": "stdout",
     "output_type": "stream",
     "text": [
      "0.6029659884202484 {'n_factors': 100, 'n_epochs': 20, 'lr_all': 0.005, 'reg_all': 0.4}\n"
     ]
    }
   ],
   "source": [
    "gs.fit(df_train)\n",
    "print(gs.best_score['rmse'], gs.best_params['rmse'])"
   ]
  },
  {
   "cell_type": "code",
   "execution_count": 100,
   "id": "112ea5e0",
   "metadata": {},
   "outputs": [],
   "source": [
    "svdpp = gs.best_estimator['rmse']"
   ]
  },
  {
   "cell_type": "code",
   "execution_count": 101,
   "id": "eecc59dc",
   "metadata": {},
   "outputs": [
    {
     "name": "stdout",
     "output_type": "stream",
     "text": [
      "RMSE: 0.6226\n",
      "RMSE for full dataset in SVD++:  0.6226059386335314\n"
     ]
    }
   ],
   "source": [
    "svdpp.fit(df_train_s)\n",
    "predictions = svdpp.test(df_test_s)\n",
    "print('RMSE for full dataset in SVD++: ', accuracy.rmse(predictions))"
   ]
  },
  {
   "cell_type": "code",
   "execution_count": 102,
   "id": "1cd448f5",
   "metadata": {},
   "outputs": [
    {
     "name": "stdout",
     "output_type": "stream",
     "text": [
      "RMSE: 1.1302\n",
      "RMSE for mini dataset in SVD++:  1.1301903957226969\n"
     ]
    }
   ],
   "source": [
    "svdpp.fit(df_train_mini_s)\n",
    "predictions = svdpp.test(df_test_mini_s)\n",
    "print('RMSE for mini dataset in SVD++: ', accuracy.rmse(predictions))"
   ]
  },
  {
   "cell_type": "markdown",
   "id": "7cf2ad86",
   "metadata": {},
   "source": [
    "# KNN"
   ]
  },
  {
   "cell_type": "code",
   "execution_count": 103,
   "id": "991b149b",
   "metadata": {},
   "outputs": [],
   "source": [
    "# для user-based - для каждого пользователя ищуется похожие на него, и вычисляются пропуски как среднее взвешенное на основе того, какие рейтинги поставили близкие пользователи. То же самое для item-based.\n",
    "param_grid = {'k': [5, 10, 20, 40], 'min_k': [2,], 'sim_options': {'name': ['cosine'], 'user_based': [True, False]}}\n",
    "gs = GridSearchCV(surprise.KNNBaseline, param_grid, measures=[\"rmse\"], cv=3)"
   ]
  },
  {
   "cell_type": "code",
   "execution_count": 104,
   "id": "676fcb32",
   "metadata": {
    "collapsed": true
   },
   "outputs": [
    {
     "name": "stdout",
     "output_type": "stream",
     "text": [
      "Estimating biases using als...\n",
      "Computing the cosine similarity matrix...\n",
      "Done computing similarity matrix.\n",
      "Estimating biases using als...\n",
      "Computing the cosine similarity matrix...\n",
      "Done computing similarity matrix.\n",
      "Estimating biases using als...\n",
      "Computing the cosine similarity matrix...\n",
      "Done computing similarity matrix.\n",
      "Estimating biases using als...\n",
      "Computing the cosine similarity matrix...\n",
      "Done computing similarity matrix.\n",
      "Estimating biases using als...\n",
      "Computing the cosine similarity matrix...\n",
      "Done computing similarity matrix.\n",
      "Estimating biases using als...\n",
      "Computing the cosine similarity matrix...\n",
      "Done computing similarity matrix.\n",
      "Estimating biases using als...\n",
      "Computing the cosine similarity matrix...\n",
      "Done computing similarity matrix.\n",
      "Estimating biases using als...\n",
      "Computing the cosine similarity matrix...\n",
      "Done computing similarity matrix.\n",
      "Estimating biases using als...\n",
      "Computing the cosine similarity matrix...\n",
      "Done computing similarity matrix.\n",
      "Estimating biases using als...\n",
      "Computing the cosine similarity matrix...\n",
      "Done computing similarity matrix.\n",
      "Estimating biases using als...\n",
      "Computing the cosine similarity matrix...\n",
      "Done computing similarity matrix.\n",
      "Estimating biases using als...\n",
      "Computing the cosine similarity matrix...\n",
      "Done computing similarity matrix.\n",
      "Estimating biases using als...\n",
      "Computing the cosine similarity matrix...\n",
      "Done computing similarity matrix.\n",
      "Estimating biases using als...\n",
      "Computing the cosine similarity matrix...\n",
      "Done computing similarity matrix.\n",
      "Estimating biases using als...\n",
      "Computing the cosine similarity matrix...\n",
      "Done computing similarity matrix.\n",
      "Estimating biases using als...\n",
      "Computing the cosine similarity matrix...\n",
      "Done computing similarity matrix.\n",
      "Estimating biases using als...\n",
      "Computing the cosine similarity matrix...\n",
      "Done computing similarity matrix.\n",
      "Estimating biases using als...\n",
      "Computing the cosine similarity matrix...\n",
      "Done computing similarity matrix.\n",
      "Estimating biases using als...\n",
      "Computing the cosine similarity matrix...\n",
      "Done computing similarity matrix.\n",
      "Estimating biases using als...\n",
      "Computing the cosine similarity matrix...\n",
      "Done computing similarity matrix.\n",
      "Estimating biases using als...\n",
      "Computing the cosine similarity matrix...\n",
      "Done computing similarity matrix.\n",
      "Estimating biases using als...\n",
      "Computing the cosine similarity matrix...\n",
      "Done computing similarity matrix.\n",
      "Estimating biases using als...\n",
      "Computing the cosine similarity matrix...\n",
      "Done computing similarity matrix.\n",
      "Estimating biases using als...\n",
      "Computing the cosine similarity matrix...\n",
      "Done computing similarity matrix.\n",
      "0.45900389974361006 {'k': 5, 'min_k': 2, 'sim_options': {'name': 'cosine', 'user_based': False}}\n"
     ]
    }
   ],
   "source": [
    "gs.fit(df_train)\n",
    "print(gs.best_score['rmse'], gs.best_params['rmse'])"
   ]
  },
  {
   "cell_type": "code",
   "execution_count": 105,
   "id": "182b01eb",
   "metadata": {},
   "outputs": [],
   "source": [
    "knn = gs.best_estimator['rmse']"
   ]
  },
  {
   "cell_type": "code",
   "execution_count": 106,
   "id": "5e168073",
   "metadata": {},
   "outputs": [
    {
     "name": "stdout",
     "output_type": "stream",
     "text": [
      "Estimating biases using als...\n",
      "Computing the cosine similarity matrix...\n",
      "Done computing similarity matrix.\n",
      "RMSE: 0.9023\n",
      "RMSE for full dataset in KNN:  0.9022775980720071\n"
     ]
    }
   ],
   "source": [
    "knn.fit(df_train_s)\n",
    "predictions = svdpp.test(df_test_s)\n",
    "print('RMSE for full dataset in KNN: ', accuracy.rmse(predictions))"
   ]
  },
  {
   "cell_type": "code",
   "execution_count": 107,
   "id": "af9e92c2",
   "metadata": {},
   "outputs": [
    {
     "name": "stdout",
     "output_type": "stream",
     "text": [
      "Estimating biases using als...\n",
      "Computing the cosine similarity matrix...\n",
      "Done computing similarity matrix.\n",
      "RMSE: 1.1302\n",
      "RMSE for mini dataset in KNN:  1.1301903957226969\n"
     ]
    }
   ],
   "source": [
    "knn.fit(df_train_mini_s)\n",
    "predictions = svdpp.test(df_test_mini_s)\n",
    "print('RMSE for mini dataset in KNN: ', accuracy.rmse(predictions))"
   ]
  },
  {
   "cell_type": "markdown",
   "id": "cbb6ccc2",
   "metadata": {},
   "source": [
    "# SlopeOne"
   ]
  },
  {
   "cell_type": "code",
   "execution_count": 108,
   "id": "e6a116b7",
   "metadata": {},
   "outputs": [],
   "source": [
    "# отсутствующие рейтинги рассчитываются на основе вычисления средней разницы между тем, что поставил конкретный пользователь и другими пользователями, и добавления этой разницы\n",
    "so1 = surprise.SlopeOne()"
   ]
  },
  {
   "cell_type": "code",
   "execution_count": 109,
   "id": "277fbf0f",
   "metadata": {},
   "outputs": [
    {
     "name": "stdout",
     "output_type": "stream",
     "text": [
      "RMSE: 0.2953\n",
      "RMSE for full dataset in SlopeOne:  0.29528311220085196\n"
     ]
    }
   ],
   "source": [
    "so1.fit(df_train_s)\n",
    "predictions = so1.test(df_test_s)\n",
    "print('RMSE for full dataset in SlopeOne: ', accuracy.rmse(predictions))"
   ]
  },
  {
   "cell_type": "code",
   "execution_count": 110,
   "id": "bc590fa7",
   "metadata": {},
   "outputs": [
    {
     "name": "stdout",
     "output_type": "stream",
     "text": [
      "RMSE: 1.1300\n",
      "RMSE for mini dataset in SlopeOne:  1.1300070681840406\n"
     ]
    }
   ],
   "source": [
    "so1.fit(df_train_mini_s)\n",
    "predictions = so1.test(df_test_mini_s)\n",
    "print('RMSE for mini dataset in SlopeOne: ', accuracy.rmse(predictions))"
   ]
  },
  {
   "cell_type": "markdown",
   "id": "78e669c2",
   "metadata": {},
   "source": [
    "# CoClustering"
   ]
  },
  {
   "cell_type": "code",
   "execution_count": 111,
   "id": "ab4c9bfa",
   "metadata": {},
   "outputs": [],
   "source": [
    "# пользователи и товары распределяются на кластеры, и для этих кластеров уже считаются средние, например, могут быть кластеры \"вредный пользователь - товар с высокой оценкой\"\n",
    "param_grid = {'n_cltr_u': [3, 6, 10, 20], 'n_cltr_i': [3, 6, 10, 20], 'n_epochs': [30, 50]}\n",
    "gs = GridSearchCV(surprise.CoClustering, param_grid, measures=[\"rmse\"], cv=3)"
   ]
  },
  {
   "cell_type": "code",
   "execution_count": 112,
   "id": "8053fb82",
   "metadata": {},
   "outputs": [
    {
     "name": "stdout",
     "output_type": "stream",
     "text": [
      "0.38050316183067806 {'n_cltr_u': 6, 'n_cltr_i': 10, 'n_epochs': 30}\n"
     ]
    }
   ],
   "source": [
    "gs.fit(df_train)\n",
    "print(gs.best_score['rmse'], gs.best_params['rmse'])"
   ]
  },
  {
   "cell_type": "code",
   "execution_count": 113,
   "id": "1bc77314",
   "metadata": {},
   "outputs": [],
   "source": [
    "cc = gs.best_estimator['rmse']"
   ]
  },
  {
   "cell_type": "code",
   "execution_count": 114,
   "id": "be505e4b",
   "metadata": {},
   "outputs": [
    {
     "name": "stdout",
     "output_type": "stream",
     "text": [
      "RMSE: 0.3231\n",
      "RMSE for full dataset in CoClustering:  0.323093706923109\n"
     ]
    }
   ],
   "source": [
    "cc.fit(df_train_s)\n",
    "predictions = cc.test(df_test_s)\n",
    "print('RMSE for full dataset in CoClustering: ', accuracy.rmse(predictions))"
   ]
  },
  {
   "cell_type": "code",
   "execution_count": 115,
   "id": "b1514cb7",
   "metadata": {},
   "outputs": [
    {
     "name": "stdout",
     "output_type": "stream",
     "text": [
      "RMSE: 1.1300\n",
      "RMSE for mini dataset in CoClustering:  1.1300070681840406\n"
     ]
    }
   ],
   "source": [
    "cc.fit(df_train_mini_s)\n",
    "predictions = cc.test(df_test_mini_s)\n",
    "print('RMSE for mini dataset in CoClustering: ', accuracy.rmse(predictions))"
   ]
  },
  {
   "cell_type": "markdown",
   "id": "1630aa76",
   "metadata": {},
   "source": [
    "# Best recommendations"
   ]
  },
  {
   "cell_type": "code",
   "execution_count": 116,
   "id": "1b8a4caf",
   "metadata": {},
   "outputs": [],
   "source": [
    "# лучший алгоритм - SlopeOne на полном датасете\n",
    "so1 = surprise.SlopeOne()"
   ]
  },
  {
   "cell_type": "code",
   "execution_count": 156,
   "id": "6b8a2366",
   "metadata": {},
   "outputs": [
    {
     "data": {
      "text/plain": [
       "<surprise.prediction_algorithms.slope_one.SlopeOne at 0x15368eaa3a0>"
      ]
     },
     "execution_count": 156,
     "metadata": {},
     "output_type": "execute_result"
    }
   ],
   "source": [
    "df_train_all_s = df_train_test.build_full_trainset()\n",
    "\n",
    "so1.fit(df_train_all_s)"
   ]
  },
  {
   "cell_type": "code",
   "execution_count": 124,
   "id": "8f27bfc2",
   "metadata": {},
   "outputs": [],
   "source": [
    "df_train_test_s = df_train_test.build_full_trainset()\n",
    "df_anti = df_train_test_s.build_anti_testset()"
   ]
  },
  {
   "cell_type": "code",
   "execution_count": 125,
   "id": "d4090890",
   "metadata": {},
   "outputs": [
    {
     "data": {
      "text/plain": [
       "80143"
      ]
     },
     "execution_count": 125,
     "metadata": {},
     "output_type": "execute_result"
    }
   ],
   "source": [
    "len(df_anti)"
   ]
  },
  {
   "cell_type": "code",
   "execution_count": 149,
   "id": "e6f0a506",
   "metadata": {},
   "outputs": [
    {
     "data": {
      "text/plain": [
       "[('A281NPSIMI1C2R', 'B000FI4S1E', 4.77059129530085),\n",
       " ('A281NPSIMI1C2R', 'B0009RF9DW', 4.77059129530085),\n",
       " ('A281NPSIMI1C2R', 'B000PKKAGO', 4.77059129530085),\n",
       " ('A281NPSIMI1C2R', 'B006WYJM8Y', 4.77059129530085),\n",
       " ('A281NPSIMI1C2R', 'B000FOI48G', 4.77059129530085),\n",
       " ('A281NPSIMI1C2R', 'B000GLRREU', 4.77059129530085),\n",
       " ('A281NPSIMI1C2R', 'B001F51RAG', 4.77059129530085),\n",
       " ('A281NPSIMI1C2R', 'B000NKJIXM', 4.77059129530085),\n",
       " ('A281NPSIMI1C2R', 'B000LIBUBY', 4.77059129530085),\n",
       " ('A281NPSIMI1C2R', 'B000VUXCGI', 4.77059129530085)]"
      ]
     },
     "execution_count": 149,
     "metadata": {},
     "output_type": "execute_result"
    }
   ],
   "source": [
    "df_anti[:10]"
   ]
  },
  {
   "cell_type": "code",
   "execution_count": 129,
   "id": "d74ce8d4",
   "metadata": {},
   "outputs": [],
   "source": [
    "products = {k:v for (k,v) in zip(df_all['asin'], df_all['title'])}"
   ]
  },
  {
   "cell_type": "code",
   "execution_count": 127,
   "id": "ccc03528",
   "metadata": {},
   "outputs": [],
   "source": [
    "def get_top_n(predictions, n=100):\n",
    "\n",
    "    top_n = defaultdict(list)\n",
    "    for uid, iid, true_r, est, _ in predictions:\n",
    "        top_n[uid].append((iid, est))\n",
    "\n",
    "    for uid, user_ratings in top_n.items():\n",
    "        user_ratings.sort(key=lambda x: x[1], reverse=True)\n",
    "        top_n[uid] = user_ratings[:n]\n",
    "\n",
    "    return top_n"
   ]
  },
  {
   "cell_type": "code",
   "execution_count": 157,
   "id": "117461e1",
   "metadata": {},
   "outputs": [],
   "source": [
    "def get_recommendations(user_id, n=10):\n",
    "    global products, df_anti\n",
    "    \n",
    "    products_bought = set(df_all[df_all['reviewerID'] == user_id]['asin'])\n",
    "    products_bought_1 = [products[i] for i in products_bought]\n",
    "    \n",
    "    print(user_id)\n",
    "    print('Куплено\\n')\n",
    "    for pr in products_bought_1:\n",
    "        print(pr)\n",
    "    \n",
    "    testset_1 = (el for el in df_anti if el[0] == user_id)\n",
    "    predictions = so1.test(testset_1)\n",
    "    \n",
    "    products_rec = get_top_n(predictions, n=n)[user_id]\n",
    "    products_rec = [p for p in products_rec if p[0] not in products_bought]\n",
    "    \n",
    "    products_rec_1 = [(products[p[0]], p[1]) for p in products_rec]\n",
    "    print('\\n\\nРекомендации\\n')\n",
    "    for pr in products_rec_1:\n",
    "        print(pr)\n",
    "    \n",
    "    return products_rec"
   ]
  },
  {
   "cell_type": "code",
   "execution_count": 158,
   "id": "e76530ad",
   "metadata": {},
   "outputs": [
    {
     "name": "stdout",
     "output_type": "stream",
     "text": [
      "A281NPSIMI1C2R\n",
      "Куплено\n",
      "\n",
      "Avalon Organics Wrinkle Therapy CoQ10 Cleansing Milk, 8.50 oz\n",
      "Avalon Organics Vitamin C Renewal Creme, 2 oz\n",
      "ZUM Zum Bar Anise Lavender, 3 Ounce\n",
      "\n",
      "\n",
      "Рекомендации\n",
      "\n",
      "('Fruits &amp; Passion Blue Refreshing Shower Gel - 6.7 fl. oz.', 5)\n",
      "('Yardley By Yardley Of London Unisexs Lay It On Thick Hand &amp; Foot Cream 5.3 Oz', 5)\n",
      "(\"Philips Norelco arcitec 1090 Men's Shaving System\", 5)\n",
      "('NARS Blush, Gaiety', 5)\n",
      "('Waterpik Ultra Water Flosser', 5)\n",
      "('Waterpik Ultra Water Flosser', 5)\n",
      "('Oral-B Glide Pro-Health Dental Floss, Original Floss, 50m, Pack of 6', 5)\n",
      "('Crest Pro-health Multi-Protection Rinse, Cool Wintergreen, 33.8 Fluid Ounce', 5)\n",
      "('Fresh Eau de Parfum, Sugar Lemon, 3.4 oz', 5)\n",
      "(\"Maggie's Functional Organics Raspberry Navy Forest 9-11\", 5)\n"
     ]
    }
   ],
   "source": [
    "rec = get_recommendations('A281NPSIMI1C2R')"
   ]
  },
  {
   "cell_type": "code",
   "execution_count": 153,
   "id": "b8c7a302",
   "metadata": {},
   "outputs": [
    {
     "name": "stdout",
     "output_type": "stream",
     "text": [
      "A1DFI14L1LBOPJ\n",
      "Куплено\n",
      "\n",
      "Citre Shine Moisture Burst Shampoo - 16 fl oz\n",
      "Bonne Bell Smackers Bath and Body Starburst Collection\n",
      "Bath &amp; Body Works Ile De Tahiti Moana Coconut Vanille Moana Body Wash with Tamanoi 8.5 oz\n",
      "Avalon Grapefruit and Geranium Smoothing Shampoo, 11 Ounce\n",
      "\n",
      "\n",
      "Рекомендации\n",
      "\n",
      "('Bali Secrets Natural Deodorant - Organic &amp; Vegan - For Women &amp; Men - All Day Fresh - Strong &amp; Reliable Protection - 2.5 fl.oz/75ml [Scent: Sandalwood]', 5)\n",
      "('Avalon Organics Wrinkle Therapy CoQ10 Cleansing Milk, 8.50 oz', 2.0)\n",
      "('ZUM Zum Bar Anise Lavender, 3 Ounce', 2.0)\n",
      "(\"Philips Norelco arcitec 1090 Men's Shaving System\", 2.0)\n",
      "('NARS Blush, Gaiety', 2.0)\n",
      "('Waterpik Ultra Water Flosser', 2.0)\n",
      "('Waterpik Ultra Water Flosser', 2.0)\n",
      "('Oral-B Glide Pro-Health Dental Floss, Original Floss, 50m, Pack of 6', 2.0)\n",
      "('Crest Pro-health Multi-Protection Rinse, Cool Wintergreen, 33.8 Fluid Ounce', 2.0)\n",
      "('Fresh Eau de Parfum, Sugar Lemon, 3.4 oz', 2.0)\n"
     ]
    }
   ],
   "source": [
    "# рекомендации для пользователя с низкими оценками\n",
    "rec = get_recommendations('A1DFI14L1LBOPJ')"
   ]
  },
  {
   "cell_type": "code",
   "execution_count": 161,
   "id": "37bf8cc8",
   "metadata": {},
   "outputs": [
    {
     "name": "stdout",
     "output_type": "stream",
     "text": [
      "A25DAQQXXA356R\n",
      "Куплено\n",
      "\n",
      "Fruits &amp; Passion Blue Refreshing Shower Gel - 6.7 fl. oz.\n",
      "Bonne Bell Smackers Bath and Body Starburst Collection\n",
      "Yardley By Yardley Of London Unisexs Lay It On Thick Hand &amp; Foot Cream 5.3 Oz\n",
      "Bath &amp; Body Works Ile De Tahiti Moana Coconut Vanille Moana Body Wash with Tamanoi 8.5 oz\n",
      "\n",
      "\n",
      "Рекомендации\n",
      "\n",
      "('Bali Secrets Natural Deodorant - Organic &amp; Vegan - For Women &amp; Men - All Day Fresh - Strong &amp; Reliable Protection - 2.5 fl.oz/75ml [Scent: Sandalwood]', 5)\n",
      "('Avalon Grapefruit and Geranium Smoothing Shampoo, 11 Ounce', 2.401636162880182)\n",
      "('Avalon Organics Wrinkle Therapy CoQ10 Cleansing Milk, 8.50 oz', 2.0)\n",
      "('ZUM Zum Bar Anise Lavender, 3 Ounce', 2.0)\n",
      "('NARS Blush, Gaiety', 2.0)\n",
      "('Waterpik Ultra Water Flosser', 2.0)\n",
      "('Waterpik Ultra Water Flosser', 2.0)\n",
      "('Oral-B Glide Pro-Health Dental Floss, Original Floss, 50m, Pack of 6', 2.0)\n",
      "('Crest Pro-health Multi-Protection Rinse, Cool Wintergreen, 33.8 Fluid Ounce', 2.0)\n",
      "('Fresh Eau de Parfum, Sugar Lemon, 3.4 oz', 2.0)\n"
     ]
    }
   ],
   "source": [
    "# рекомендации для пользователя с низкими оценками\n",
    "rec = get_recommendations('A25DAQQXXA356R')"
   ]
  },
  {
   "cell_type": "markdown",
   "id": "8a0e15fc",
   "metadata": {},
   "source": [
    "# Выводы"
   ]
  },
  {
   "cell_type": "markdown",
   "id": "60da1259",
   "metadata": {},
   "source": [
    "1. Желательно добавить текстовые эмбеддинги для товаров, а также для прошлых покупок пользователей\n",
    "2. В будущем можно учитывать количество покупок определенных товаров и их категорию\n",
    "3. Для больших датаестов нужно учитывать проверенность отзыва и соотнесение текстового описания с проставленной оценкой"
   ]
  }
 ],
 "metadata": {
  "kernelspec": {
   "display_name": "Python 3 (ipykernel)",
   "language": "python",
   "name": "python3"
  },
  "language_info": {
   "codemirror_mode": {
    "name": "ipython",
    "version": 3
   },
   "file_extension": ".py",
   "mimetype": "text/x-python",
   "name": "python",
   "nbconvert_exporter": "python",
   "pygments_lexer": "ipython3",
   "version": "3.9.12"
  }
 },
 "nbformat": 4,
 "nbformat_minor": 5
}
